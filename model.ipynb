{
 "cells": [
  {
   "cell_type": "code",
   "execution_count": null,
   "id": "d2d4f33e",
   "metadata": {},
   "outputs": [
    {
     "data": {
      "text/plain": [
       "<torch._C.Generator at 0x18fe47790f0>"
      ]
     },
     "execution_count": 3,
     "metadata": {},
     "output_type": "execute_result"
    }
   ],
   "source": [
    "# Cell 1\n",
    "import random, math\n",
    "import torch, torch.nn as nn\n",
    "from torch.utils.data import Dataset, DataLoader\n",
    "\n",
    "random.seed(1)\n",
    "torch.manual_seed(1)"
   ]
  },
  {
   "cell_type": "code",
   "execution_count": 4,
   "id": "f10131fa",
   "metadata": {},
   "outputs": [],
   "source": [
    "# Cell 2\n",
    "class KmerTokenizer:\n",
    "    def __init__(self, k=4):\n",
    "        self.k = k\n",
    "        bases = ['A','C','G','T','N']\n",
    "        from itertools import product\n",
    "        self.vocab = {'<pad>':0, '<unk>':1}\n",
    "        idx = 2\n",
    "        for kmer in map(''.join, product(bases, repeat=self.k)):\n",
    "            self.vocab[kmer] = idx\n",
    "            idx += 1\n",
    "        self.vocab_size = len(self.vocab)\n",
    "    def encode(self, seq):\n",
    "        seq = seq.upper().replace('U','T')\n",
    "        toks = []\n",
    "        for i in range(0, max(1, len(seq)-self.k+1)):\n",
    "            kmer = seq[i:i+self.k]\n",
    "            toks.append(self.vocab.get(kmer, self.vocab['<unk>']))\n",
    "        return toks\n"
   ]
  },
  {
   "cell_type": "code",
   "execution_count": 5,
   "id": "134a2d36",
   "metadata": {},
   "outputs": [],
   "source": [
    "# Cell 3\n",
    "def random_seq(length):\n",
    "    return ''.join(random.choice(['A','C','G','T']) for _ in range(length))\n",
    "\n",
    "taxa = ['Phylum_A','Phylum_B','Phylum_C']\n",
    "roles = ['primary_producer','microbial_grazer','decomposer']\n",
    "taxa_to_idx = {t:i for i,t in enumerate(taxa)}\n",
    "role_to_idx = {r:i for i,r in enumerate(roles)}\n",
    "\n",
    "def build_toy_dataset(n=80, seq_len_range=(30,60)):\n",
    "    data=[]\n",
    "    for i in range(n):\n",
    "        l=random.randint(*seq_len_range)\n",
    "        s=random_seq(l)\n",
    "        gc=(s.count('G')+s.count('C'))/len(s)\n",
    "        if gc<0.33:\n",
    "            tax='Phylum_A'; role='primary_producer'\n",
    "        elif gc<0.66:\n",
    "            tax='Phylum_B'; role='microbial_grazer'\n",
    "        else:\n",
    "            tax='Phylum_C'; role='decomposer'\n",
    "        novel = 1 if random.random()<0.1 else 0\n",
    "        data.append({'seq':s,'tax_idx':taxa_to_idx[tax],'role_idx':role_to_idx[role],'novel':novel})\n",
    "    return data\n"
   ]
  },
  {
   "cell_type": "code",
   "execution_count": 6,
   "id": "e2ba22fe",
   "metadata": {},
   "outputs": [],
   "source": [
    "# Cell 4\n",
    "tokenizer = KmerTokenizer(k=4)\n",
    "\n",
    "class ASVDataset(Dataset):\n",
    "    def __init__(self, records, tokenizer):\n",
    "        self.records = records\n",
    "        self.tokenizer = tokenizer\n",
    "    def __len__(self):\n",
    "        return len(self.records)\n",
    "    def __getitem__(self, idx):\n",
    "        rec = self.records[idx]\n",
    "        toks = self.tokenizer.encode(rec['seq'])\n",
    "        return {\n",
    "            'tokens': torch.tensor(toks, dtype=torch.long),\n",
    "            'tax_idx': torch.tensor(rec['tax_idx'], dtype=torch.long),\n",
    "            'role_idx': torch.tensor(rec['role_idx'], dtype=torch.long),\n",
    "            'novel': torch.tensor(rec['novel'], dtype=torch.float)\n",
    "        }\n",
    "\n",
    "def collate_fn(batch):\n",
    "    tokens = [b['tokens'] for b in batch]\n",
    "    lengths = [t.size(0) for t in tokens]\n",
    "    maxlen = max(lengths)\n",
    "    padded = torch.zeros(len(tokens), maxlen, dtype=torch.long)\n",
    "    mask = torch.zeros(len(tokens), maxlen, dtype=torch.bool)\n",
    "    for i,t in enumerate(tokens):\n",
    "        padded[i,:t.size(0)] = t\n",
    "        mask[i,:t.size(0)] = 1\n",
    "    tax_idx = torch.stack([b['tax_idx'] for b in batch])\n",
    "    role_idx = torch.stack([b['role_idx'] for b in batch])\n",
    "    novel = torch.stack([b['novel'] for b in batch])\n",
    "    # src_key_padding_mask: True where padding\n",
    "    src_key_padding_mask = ~mask\n",
    "    return padded, src_key_padding_mask, tax_idx, role_idx, novel\n"
   ]
  },
  {
   "cell_type": "code",
   "execution_count": 7,
   "id": "982b9a63",
   "metadata": {},
   "outputs": [],
   "source": [
    "# Cell 5\n",
    "class PositionalEncoding(nn.Module):\n",
    "    def __init__(self, d_model, max_len=512):\n",
    "        super().__init__()\n",
    "        pe = torch.zeros(max_len, d_model)\n",
    "        position = torch.arange(0, max_len).unsqueeze(1).float()\n",
    "        div_term = torch.exp(torch.arange(0, d_model, 2).float() * (-math.log(10000.0) / d_model))\n",
    "        pe[:, 0::2] = torch.sin(position * div_term)\n",
    "        pe[:, 1::2] = torch.cos(position * div_term)\n",
    "        self.register_buffer('pe', pe.unsqueeze(0))\n",
    "    def forward(self, x):\n",
    "        return x + self.pe[:, :x.size(1)]\n",
    "\n",
    "class MultiTaskTaxonomyModel(nn.Module):\n",
    "    def __init__(self, vocab_size, d_model=64, nhead=2, num_layers=1, tax_classes=3, role_classes=3):\n",
    "        super().__init__()\n",
    "        self.embed = nn.Embedding(vocab_size, d_model, padding_idx=0)\n",
    "        self.pos = PositionalEncoding(d_model, max_len=512)\n",
    "        encoder_layer = nn.TransformerEncoderLayer(d_model, nhead, dim_feedforward=128, dropout=0.1, activation='relu')\n",
    "        self.encoder = nn.TransformerEncoder(encoder_layer, num_layers)\n",
    "        self.tax_head = nn.Linear(d_model, tax_classes)\n",
    "        self.role_head = nn.Linear(d_model, role_classes)\n",
    "        self.novel_head = nn.Linear(d_model, 1)\n",
    "    def forward(self, x, src_key_padding_mask=None):\n",
    "        emb = self.embed(x) * math.sqrt(self.embed.embedding_dim)\n",
    "        emb = self.pos(emb)\n",
    "        emb_t = emb.transpose(0,1)  # [L,B,D]\n",
    "        enc = self.encoder(emb_t, src_key_padding_mask=src_key_padding_mask)\n",
    "        enc = enc.transpose(0,1)   # [B,L,D]\n",
    "        if src_key_padding_mask is not None:\n",
    "            mask = ~src_key_padding_mask  # True at valid positions\n",
    "            mask = mask.unsqueeze(-1).float()\n",
    "            enc = enc * mask\n",
    "            pooled = enc.sum(dim=1) / mask.sum(dim=1).clamp(min=1.0)\n",
    "        else:\n",
    "            pooled = enc.mean(dim=1)\n",
    "        return {\n",
    "            'tax_logits': self.tax_head(pooled),\n",
    "            'role_logits': self.role_head(pooled),\n",
    "            'novel_logits': self.novel_head(pooled).squeeze(-1)\n",
    "        }\n"
   ]
  },
  {
   "cell_type": "code",
   "execution_count": 8,
   "id": "b4985cee",
   "metadata": {},
   "outputs": [],
   "source": [
    "# Cell 6\n",
    "records = build_toy_dataset(n=80, seq_len_range=(30,60))\n",
    "train = records[:64]\n",
    "val = records[64:]\n",
    "\n",
    "train_ds = ASVDataset(train, tokenizer)\n",
    "val_ds = ASVDataset(val, tokenizer)\n",
    "\n",
    "train_loader = DataLoader(train_ds, batch_size=16, shuffle=True, collate_fn=collate_fn)\n",
    "val_loader = DataLoader(val_ds, batch_size=16, shuffle=False, collate_fn=collate_fn)\n"
   ]
  },
  {
   "cell_type": "code",
   "execution_count": 9,
   "id": "9251d9f2",
   "metadata": {},
   "outputs": [
    {
     "name": "stderr",
     "output_type": "stream",
     "text": [
      "C:\\Users\\KIIT0001\\AppData\\Roaming\\Python\\Python313\\site-packages\\torch\\nn\\modules\\transformer.py:392: UserWarning: enable_nested_tensor is True, but self.use_nested_tensor is False because encoder_layer.self_attn.batch_first was not True(use batch_first for better inference performance)\n",
      "  warnings.warn(\n"
     ]
    }
   ],
   "source": [
    "# Cell 7\n",
    "device = torch.device('cuda' if torch.cuda.is_available() else 'cpu')\n",
    "model = MultiTaskTaxonomyModel(vocab_size=tokenizer.vocab_size, d_model=64, nhead=2, num_layers=1).to(device)\n",
    "opt = torch.optim.AdamW(model.parameters(), lr=5e-4)\n",
    "ce = nn.CrossEntropyLoss()\n",
    "bce = nn.BCEWithLogitsLoss()\n"
   ]
  },
  {
   "cell_type": "code",
   "execution_count": 10,
   "id": "f7b1e4b9",
   "metadata": {},
   "outputs": [
    {
     "name": "stdout",
     "output_type": "stream",
     "text": [
      "Epoch 1 | Train loss 2.8019 | Val tax acc 1.000 | Val role acc 1.000\n",
      "Epoch 2 | Train loss 2.3931 | Val tax acc 1.000 | Val role acc 1.000\n",
      "Epoch 3 | Train loss 2.0255 | Val tax acc 1.000 | Val role acc 1.000\n",
      "Epoch 4 | Train loss 1.7130 | Val tax acc 1.000 | Val role acc 1.000\n",
      "Epoch 5 | Train loss 1.4204 | Val tax acc 1.000 | Val role acc 1.000\n"
     ]
    }
   ],
   "source": [
    "# Cell 8\n",
    "def evaluate(loader):\n",
    "    model.eval()\n",
    "    total = 0\n",
    "    correct_tax = 0\n",
    "    correct_role = 0\n",
    "    with torch.no_grad():\n",
    "        for padded, src_key_padding_mask, tax_idx, role_idx, novel in loader:\n",
    "            padded = padded.to(device); src_key_padding_mask = src_key_padding_mask.to(device)\n",
    "            tax_idx = tax_idx.to(device); role_idx = role_idx.to(device)\n",
    "            out = model(padded, src_key_padding_mask=src_key_padding_mask)\n",
    "            correct_tax += (out['tax_logits'].argmax(dim=1) == tax_idx).sum().item()\n",
    "            correct_role += (out['role_logits'].argmax(dim=1) == role_idx).sum().item()\n",
    "            total += tax_idx.size(0)\n",
    "    return correct_tax/total, correct_role/total\n",
    "\n",
    "for epoch in range(1,6):\n",
    "    model.train()\n",
    "    running = 0.0\n",
    "    for padded, src_key_padding_mask, tax_idx, role_idx, novel in train_loader:\n",
    "        padded = padded.to(device); src_key_padding_mask = src_key_padding_mask.to(device)\n",
    "        tax_idx = tax_idx.to(device); role_idx = role_idx.to(device); novel = novel.to(device)\n",
    "        out = model(padded, src_key_padding_mask=src_key_padding_mask)\n",
    "        loss = ce(out['tax_logits'], tax_idx) + ce(out['role_logits'], role_idx) + 1.5*bce(out['novel_logits'], novel)\n",
    "        opt.zero_grad(); loss.backward(); opt.step()\n",
    "        running += loss.item() * tax_idx.size(0)\n",
    "    avg = running / len(train)\n",
    "    tax_acc, role_acc = evaluate(val_loader)\n",
    "    print(f\"Epoch {epoch} | Train loss {avg:.4f} | Val tax acc {tax_acc:.3f} | Val role acc {role_acc:.3f}\")\n"
   ]
  },
  {
   "cell_type": "code",
   "execution_count": 11,
   "id": "a2e044ab",
   "metadata": {},
   "outputs": [
    {
     "name": "stdout",
     "output_type": "stream",
     "text": [
      "True tax: Phylum_B | Pred tax: Phylum_B | True role: microbial_grazer | Pred role: decomposer | Novel score: 0.508\n",
      "True tax: Phylum_B | Pred tax: Phylum_B | True role: microbial_grazer | Pred role: decomposer | Novel score: 0.508\n",
      "True tax: Phylum_B | Pred tax: Phylum_B | True role: microbial_grazer | Pred role: decomposer | Novel score: 0.508\n",
      "True tax: Phylum_B | Pred tax: Phylum_B | True role: microbial_grazer | Pred role: decomposer | Novel score: 0.508\n",
      "True tax: Phylum_B | Pred tax: Phylum_B | True role: microbial_grazer | Pred role: decomposer | Novel score: 0.508\n",
      "True tax: Phylum_B | Pred tax: Phylum_B | True role: microbial_grazer | Pred role: decomposer | Novel score: 0.508\n"
     ]
    }
   ],
   "source": [
    "# Cell 9\n",
    "model.eval()\n",
    "for ex in val[:6]:\n",
    "    toks = torch.tensor(tokenizer.encode(ex['seq']), dtype=torch.long).unsqueeze(0).to(device)\n",
    "    mask = torch.zeros(1, toks.size(1), dtype=torch.bool).to(device)\n",
    "    out = model(toks, src_key_padding_mask=~mask)\n",
    "    tax_pred = taxa[out['tax_logits'].argmax(dim=1).item()]\n",
    "    role_pred = roles[out['role_logits'].argmax(dim=1).item()]\n",
    "    novel_score = torch.sigmoid(out['novel_logits']).item()\n",
    "    print(f\"True tax: {taxa[ex['tax_idx']]} | Pred tax: {tax_pred} | True role: {roles[ex['role_idx']]} | Pred role: {role_pred} | Novel score: {novel_score:.3f}\")\n"
   ]
  },
  {
   "cell_type": "code",
   "execution_count": 12,
   "id": "c2ccacff",
   "metadata": {},
   "outputs": [
    {
     "name": "stdout",
     "output_type": "stream",
     "text": [
      "Saved model to multitask_model_demo_small.pth\n"
     ]
    }
   ],
   "source": [
    "# Cell 10\n",
    "torch.save({'model_state_dict': model.state_dict(), 'tokenizer_vocab': tokenizer.vocab}, 'multitask_model_demo_small.pth')\n",
    "print(\"Saved model to multitask_model_demo_small.pth\")\n"
   ]
  }
 ],
 "metadata": {
  "kernelspec": {
   "display_name": "Python 3",
   "language": "python",
   "name": "python3"
  },
  "language_info": {
   "codemirror_mode": {
    "name": "ipython",
    "version": 3
   },
   "file_extension": ".py",
   "mimetype": "text/x-python",
   "name": "python",
   "nbconvert_exporter": "python",
   "pygments_lexer": "ipython3",
   "version": "3.13.1"
  }
 },
 "nbformat": 4,
 "nbformat_minor": 5
}
